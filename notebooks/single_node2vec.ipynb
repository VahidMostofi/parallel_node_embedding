{
 "cells": [
  {
   "cell_type": "code",
   "execution_count": 1,
   "metadata": {},
   "outputs": [],
   "source": [
    "import numpy as np\n",
    "from tqdm import tqdm\n",
    "from sklearn.linear_model import LogisticRegression\n",
    "from sklearn.metrics import roc_auc_score\n",
    "from sklearn.metrics import average_precision_score\n"
   ]
  },
  {
   "cell_type": "code",
   "execution_count": 3,
   "metadata": {},
   "outputs": [],
   "source": [
    "work_dir = '../data/wikipedia_squ/'\n",
    "embedding_path = '/home/vahid/data/wikipedia_squ_emb_3_3.emb'"
   ]
  },
  {
   "cell_type": "code",
   "execution_count": 4,
   "metadata": {},
   "outputs": [],
   "source": [
    "with open(work_dir + 'train_edges_true.txt') as f:\n",
    "    train_edges_true = [(line.split(' ')[0], line.split(' ')[1]) for line in f.read().split('\\n')]\n",
    "train_edges_true = [(str(min(int(e[0]),int(e[1]))),str(max(int(e[0]),int(e[1])))) for e in train_edges_true]\n",
    "\n",
    "with open(work_dir + 'test_edges_true.txt') as f:\n",
    "    test_edges_true = [(line.split(' ')[0], line.split(' ')[1]) for line in f.read().split('\\n')]\n",
    "test_edges_true = [(str(min(int(e[0]),int(e[1]))),str(max(int(e[0]),int(e[1])))) for e in test_edges_true]\n",
    "\n",
    "with open(work_dir + 'train_edges_false.txt') as f:\n",
    "    train_edges_false = [(line.split(' ')[0], line.split(' ')[1]) for line in f.read().split('\\n')]\n",
    "train_edges_false = [(str(min(int(e[0]),int(e[1]))),str(max(int(e[0]),int(e[1])))) for e in train_edges_false]\n",
    "\n",
    "with open(work_dir + 'test_edges_false.txt') as f:\n",
    "    test_edges_false = [(line.split(' ')[0], line.split(' ')[1]) for line in f.read().split('\\n')]\n",
    "test_edges_false = [(str(min(int(e[0]),int(e[1]))),str(max(int(e[0]),int(e[1])))) for e in test_edges_false]"
   ]
  },
  {
   "cell_type": "code",
   "execution_count": 5,
   "metadata": {},
   "outputs": [
    {
     "name": "stdout",
     "output_type": "stream",
     "text": [
      "5202\n"
     ]
    }
   ],
   "source": [
    "dic = {}\n",
    "with open(embedding_path) as f:\n",
    "    for line in f.read().split('\\n')[1:]:\n",
    "        key = line.split(' ')[0]\n",
    "        value = np.array([float(x) for x in line.split(' ')[1:]])\n",
    "        dic[key] = value\n",
    "print(len(dic))"
   ]
  },
  {
   "cell_type": "code",
   "execution_count": 6,
   "metadata": {},
   "outputs": [
    {
     "data": {
      "text/plain": [
       "((277690, 128), (277690,), (119296, 128), (119296,))"
      ]
     },
     "execution_count": 6,
     "metadata": {},
     "output_type": "execute_result"
    }
   ],
   "source": [
    "train_X = []\n",
    "train_y = []\n",
    "test_X = []\n",
    "test_y = []\n",
    "for e in train_edges_true:\n",
    "    train_X.append(np.multiply(dic[str(e[0])], dic[str(e[1])]))\n",
    "    train_y.append(1)\n",
    "for e in train_edges_false:\n",
    "    train_X.append(np.multiply(dic[str(e[0])], dic[str(e[1])]))\n",
    "    train_y.append(0)\n",
    "    \n",
    "for e in test_edges_true:\n",
    "    test_X.append(np.multiply(dic[str(e[0])], dic[str(e[1])]))\n",
    "    test_y.append(1)\n",
    "for e in test_edges_false:\n",
    "    test_X.append(np.multiply(dic[str(e[0])], dic[str(e[1])]))\n",
    "    test_y.append(0)\n",
    "train_X = np.array(train_X)\n",
    "train_y = np.array(train_y)\n",
    "test_X = np.array(test_X)\n",
    "test_y = np.array(test_y)\n",
    "train_X.shape,  train_y.shape, test_X.shape, test_y.shape"
   ]
  },
  {
   "cell_type": "code",
   "execution_count": 7,
   "metadata": {},
   "outputs": [
    {
     "name": "stdout",
     "output_type": "stream",
     "text": [
      "CPU times: user 5min 5s, sys: 6min 32s, total: 11min 37s\n",
      "Wall time: 47.3 s\n"
     ]
    },
    {
     "data": {
      "text/plain": [
       "LogisticRegression(C=1.0, class_weight=None, dual=False, fit_intercept=True,\n",
       "                   intercept_scaling=1, l1_ratio=None, max_iter=250,\n",
       "                   multi_class='warn', n_jobs=None, penalty='l2',\n",
       "                   random_state=0, solver='lbfgs', tol=0.0001, verbose=0,\n",
       "                   warm_start=False)"
      ]
     },
     "execution_count": 7,
     "metadata": {},
     "output_type": "execute_result"
    }
   ],
   "source": [
    "%%time\n",
    "edge_classifier = LogisticRegression(random_state=0, solver='lbfgs', max_iter=250)\n",
    "edge_classifier.fit(train_X, train_y)"
   ]
  },
  {
   "cell_type": "code",
   "execution_count": 8,
   "metadata": {},
   "outputs": [
    {
     "name": "stdout",
     "output_type": "stream",
     "text": [
      "CPU times: user 284 ms, sys: 364 ms, total: 648 ms\n",
      "Wall time: 191 ms\n"
     ]
    }
   ],
   "source": [
    "%%time\n",
    "preds = edge_classifier.predict_proba(test_X)[:, 1]"
   ]
  },
  {
   "cell_type": "code",
   "execution_count": 9,
   "metadata": {},
   "outputs": [
    {
     "data": {
      "text/plain": [
       "(0.9374851495997549, 0.9261049803947872)"
      ]
     },
     "execution_count": 9,
     "metadata": {},
     "output_type": "execute_result"
    }
   ],
   "source": [
    "test_roc = roc_auc_score(test_y, preds)\n",
    "test_ap = average_precision_score(test_y, preds)\n",
    "test_roc, test_ap"
   ]
  }
 ],
 "metadata": {
  "kernelspec": {
   "display_name": "Python 3",
   "language": "python",
   "name": "python3"
  },
  "language_info": {
   "codemirror_mode": {
    "name": "ipython",
    "version": 3
   },
   "file_extension": ".py",
   "mimetype": "text/x-python",
   "name": "python",
   "nbconvert_exporter": "python",
   "pygments_lexer": "ipython3",
   "version": "3.6.8"
  }
 },
 "nbformat": 4,
 "nbformat_minor": 2
}
