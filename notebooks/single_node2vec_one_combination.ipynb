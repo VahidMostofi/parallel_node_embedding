{
 "cells": [
  {
   "cell_type": "code",
   "execution_count": 1,
   "metadata": {},
   "outputs": [],
   "source": [
    "import numpy as np\n",
    "from tqdm import tqdm\n",
    "from sklearn.linear_model import LogisticRegression\n",
    "from sklearn.metrics import roc_auc_score\n",
    "from sklearn.metrics import average_precision_score\n"
   ]
  },
  {
   "cell_type": "code",
   "execution_count": 7,
   "metadata": {},
   "outputs": [],
   "source": [
    "with open('../data/amazon/train_edges_true.txt') as f:\n",
    "    train_edges_true = [(line.split(' ')[0], line.split(' ')[1]) for line in f.read().split('\\n')]\n",
    "train_edges_true = [(min(int(e[0]),int(e[1])),max(int(e[0]),int(e[1]))) for e in train_edges_true]\n",
    "\n",
    "with open('../data/amazon/test_edges_true.txt') as f:\n",
    "    test_edges_true = [(line.split(' ')[0], line.split(' ')[1]) for line in f.read().split('\\n')]\n",
    "test_edges_true = [(min(int(e[0]),int(e[1])),max(int(e[0]),int(e[1]))) for e in test_edges_true]\n",
    "\n",
    "with open('../data/amazon/train_edges_false.txt') as f:\n",
    "    train_edges_false = [(line.split(' ')[0], line.split(' ')[1]) for line in f.read().split('\\n')]\n",
    "train_edges_false = [(min(int(e[0]),int(e[1])),max(int(e[0]),int(e[1]))) for e in train_edges_false]\n",
    "\n",
    "with open('../data/amazon/test_edges_false.txt') as f:\n",
    "    test_edges_false = [(line.split(' ')[0], line.split(' ')[1]) for line in f.read().split('\\n')]\n",
    "test_edges_false = [(min(int(e[0]),int(e[1])),max(int(e[0]),int(e[1]))) for e in test_edges_false]"
   ]
  },
  {
   "cell_type": "code",
   "execution_count": 10,
   "metadata": {},
   "outputs": [],
   "source": [
    "nodes_count = 334864"
   ]
  },
  {
   "cell_type": "code",
   "execution_count": 36,
   "metadata": {},
   "outputs": [],
   "source": [
    "def filter(l):\n",
    "    new_l = []\n",
    "    for e in l:\n",
    "        if e[0] < (334864/8) and e[1] < (334864/8):\n",
    "            new_l.append(e)\n",
    "    return new_l\n",
    "train_edges_true = filter(train_edges_true)\n",
    "train_edges_false = filter(train_edges_false)\n",
    "test_edges_true = filter(test_edges_true)\n",
    "test_edges_false = filter(test_edges_false)"
   ]
  },
  {
   "cell_type": "code",
   "execution_count": 47,
   "metadata": {},
   "outputs": [
    {
     "data": {
      "text/plain": [
       "10120"
      ]
     },
     "execution_count": 47,
     "metadata": {},
     "output_type": "execute_result"
    }
   ],
   "source": [
    "len(train_edges_true)"
   ]
  },
  {
   "cell_type": "code",
   "execution_count": 38,
   "metadata": {},
   "outputs": [
    {
     "name": "stdout",
     "output_type": "stream",
     "text": [
      "file /Users/vahid/Desktop/train_true.txt created.\n"
     ]
    }
   ],
   "source": [
    "def write_edgelist(edgelist, path):\n",
    "    with open(path, 'w+') as f:\n",
    "        for e_idx, e in enumerate(edgelist):\n",
    "            line =  str(e[0]) + ' ' + str(e[1])\n",
    "            if e_idx != len(edgelist) - 1:\n",
    "                line += '\\n'\n",
    "            f.write(line)\n",
    "    print('file', path, 'created.')\n",
    "write_edgelist(train_edges_true, '/Users/vahid/Desktop/train_true.txt')"
   ]
  },
  {
   "cell_type": "code",
   "execution_count": 72,
   "metadata": {},
   "outputs": [
    {
     "name": "stdout",
     "output_type": "stream",
     "text": [
      "14799\n",
      "41860\n"
     ]
    }
   ],
   "source": [
    "dic = {}\n",
    "with open('/Users/vahid/Desktop/small_emb_3_3.emb') as f:\n",
    "    for line in f.read().split('\\n')[1:]:\n",
    "        key = line.split(' ')[0]\n",
    "        value = np.array([float(x) for x in line.split(' ')[1:]])\n",
    "        dic[key] = value\n",
    "print(len(dic))\n",
    "for i in range(1 + int(nodes_count/8)):\n",
    "    if str(i) not in dic:\n",
    "        dic[str(i)] = np.ones([128])\n",
    "print(len(dic))"
   ]
  },
  {
   "cell_type": "code",
   "execution_count": 73,
   "metadata": {},
   "outputs": [
    {
     "data": {
      "text/plain": [
       "((20294, 128), (20294,), (14473, 128), (14473,))"
      ]
     },
     "execution_count": 73,
     "metadata": {},
     "output_type": "execute_result"
    }
   ],
   "source": [
    "train_X = []\n",
    "train_y = []\n",
    "test_X = []\n",
    "test_y = []\n",
    "\n",
    "false_z = 0\n",
    "true_z = 0\n",
    "for e in train_edges_true:\n",
    "    train_X.append(np.multiply(dic[str(e[0])], dic[str(e[1])]))\n",
    "    if np.multiply(dic[str(e[0])], dic[str(e[1])]).mean() > 1 - 1e-6:\n",
    "        true_z += 1\n",
    "    train_y.append(1)\n",
    "for e in train_edges_false:\n",
    "    train_X.append(np.multiply(dic[str(e[0])], dic[str(e[1])]))\n",
    "    if np.multiply(dic[str(e[0])], dic[str(e[1])]).mean() > 1 - 1e-6:\n",
    "        false_z += 1\n",
    "    train_y.append(0)\n",
    "    \n",
    "for e in test_edges_true:\n",
    "    test_X.append(np.multiply(dic[str(e[0])], dic[str(e[1])]))\n",
    "    test_y.append(1)\n",
    "for e in test_edges_false:\n",
    "    test_X.append(np.multiply(dic[str(e[0])], dic[str(e[1])]))\n",
    "    test_y.append(0)\n",
    "\n",
    "train_X = np.array(train_X)\n",
    "train_y = np.array(train_y)\n",
    "test_X = np.array(test_X)\n",
    "test_y = np.array(test_y)\n",
    "train_X.shape,  train_y.shape, test_X.shape, test_y.shape"
   ]
  },
  {
   "cell_type": "code",
   "execution_count": 74,
   "metadata": {},
   "outputs": [
    {
     "data": {
      "text/plain": [
       "(0, 4230)"
      ]
     },
     "execution_count": 74,
     "metadata": {},
     "output_type": "execute_result"
    }
   ],
   "source": [
    "true_z, false_z"
   ]
  },
  {
   "cell_type": "code",
   "execution_count": 75,
   "metadata": {},
   "outputs": [
    {
     "name": "stdout",
     "output_type": "stream",
     "text": [
      "CPU times: user 1.08 s, sys: 29.4 ms, total: 1.11 s\n",
      "Wall time: 358 ms\n"
     ]
    }
   ],
   "source": [
    "%%time\n",
    "edge_classifier = LogisticRegression(random_state=0, solver='lbfgs', max_iter=250)\n",
    "edge_classifier.fit(train_X, train_y)"
   ]
  },
  {
   "cell_type": "code",
   "execution_count": 76,
   "metadata": {},
   "outputs": [
    {
     "name": "stdout",
     "output_type": "stream",
     "text": [
      "CPU times: user 5.25 ms, sys: 738 µs, total: 5.99 ms\n",
      "Wall time: 2.34 ms\n"
     ]
    }
   ],
   "source": [
    "%%time\n",
    "preds = edge_classifier.predict_proba(test_X)[:, 1]"
   ]
  },
  {
   "cell_type": "code",
   "execution_count": 77,
   "metadata": {},
   "outputs": [
    {
     "data": {
      "text/plain": [
       "(0.9438028972795102, 0.9615585928377474)"
      ]
     },
     "execution_count": 77,
     "metadata": {},
     "output_type": "execute_result"
    }
   ],
   "source": [
    "test_roc = roc_auc_score(test_y, preds)\n",
    "test_ap = average_precision_score(test_y, preds)\n",
    "test_roc, test_ap"
   ]
  },
  {
   "cell_type": "code",
   "execution_count": 78,
   "metadata": {},
   "outputs": [
    {
     "data": {
      "text/plain": [
       "array([1, 1, 1, ..., 0, 0, 0])"
      ]
     },
     "execution_count": 78,
     "metadata": {},
     "output_type": "execute_result"
    }
   ],
   "source": [
    "test_y"
   ]
  },
  {
   "cell_type": "code",
   "execution_count": 79,
   "metadata": {},
   "outputs": [
    {
     "data": {
      "text/plain": [
       "0.6487882896273409"
      ]
     },
     "execution_count": 79,
     "metadata": {},
     "output_type": "execute_result"
    }
   ],
   "source": [
    "preds.mean()"
   ]
  },
  {
   "cell_type": "code",
   "execution_count": 80,
   "metadata": {},
   "outputs": [
    {
     "data": {
      "text/plain": [
       "0.6992330546534927"
      ]
     },
     "execution_count": 80,
     "metadata": {},
     "output_type": "execute_result"
    }
   ],
   "source": [
    "test_y.mean()"
   ]
  },
  {
   "cell_type": "code",
   "execution_count": null,
   "metadata": {},
   "outputs": [],
   "source": []
  }
 ],
 "metadata": {
  "kernelspec": {
   "display_name": "Python 3",
   "language": "python",
   "name": "python3"
  },
  "language_info": {
   "codemirror_mode": {
    "name": "ipython",
    "version": 3
   },
   "file_extension": ".py",
   "mimetype": "text/x-python",
   "name": "python",
   "nbconvert_exporter": "python",
   "pygments_lexer": "ipython3",
   "version": "3.6.7"
  }
 },
 "nbformat": 4,
 "nbformat_minor": 2
}
