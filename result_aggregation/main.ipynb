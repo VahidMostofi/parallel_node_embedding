{
 "nbformat": 4,
 "nbformat_minor": 2,
 "metadata": {
  "language_info": {
   "name": "python",
   "codemirror_mode": {
    "name": "ipython",
    "version": 3
   },
   "version": "3.6.7"
  },
  "orig_nbformat": 2,
  "file_extension": ".py",
  "mimetype": "text/x-python",
  "name": "python",
  "npconvert_exporter": "python",
  "pygments_lexer": "ipython3",
  "version": 3
 },
 "cells": [
  {
   "cell_type": "code",
   "execution_count": 24,
   "metadata": {},
   "outputs": [],
   "source": [
    "import json\n",
    "import matplotlib.pyplot as plt\n",
    "import numpy\n",
    "import os\n",
    "import sys\n",
    "import pandas as pd"
   ]
  },
  {
   "cell_type": "code",
   "execution_count": 18,
   "metadata": {},
   "outputs": [],
   "source": [
    "results_direcotry = \"results/\""
   ]
  },
  {
   "cell_type": "code",
   "execution_count": 75,
   "metadata": {},
   "outputs": [],
   "source": [
    "single_df_cols = [\n",
    "'dataset_name',\n",
    "'main_graph_edges',\n",
    "'main_graph_nodes',\n",
    "'p',\n",
    "'q',\n",
    "'dimension',\n",
    "'random_walk_length',\n",
    "'number_of_random_walks',\n",
    "'test_fraction',\n",
    "'roc_auc_score',\n",
    "'avg_prc_score',\n",
    "]\n",
    "output_df_cols = [\n",
    "\"dataset_name\",\n",
    "\"batch_count\",\n",
    "\"number_of_combinations\",\n",
    "\"k\",\n",
    "\"batch_size\",\n",
    "\"dimension\",\n",
    "\"number_of_walks\",\n",
    "\"voting\",\n",
    "\"weighted_voting\",\n",
    "\"max_path_count\",\n",
    "\"test_roc\",\n",
    "\"test_ap\",\n",
    "\"number_of_evaluated_edges\",\n",
    "\"test_name\",\n",
    "# \"distance_info\"\n",
    "]\n",
    "renames = [\n",
    "    (\"length_of_walks\",\"random_walk_length\"),\n",
    "    (\"number_of_walks\",\"number_of_random_walks\"),\n",
    "    (\"args.combinations\",\"k\"),\n",
    "    (\"ebed_dim\",\"dimension\"),\n",
    "]\n",
    "add_defaults = [\n",
    "    (\"p\",0.3),\n",
    "    (\"q\",0.3),\n",
    "    (\"random_walk_length\", 80),\n",
    "    (\"number_of_walks\", 10),\n",
    "    (\"ebed_dim\", 128),\n",
    "    (\"max_path_count\", 2)\n",
    "]"
   ]
  },
  {
   "cell_type": "code",
   "execution_count": null,
   "metadata": {},
   "outputs": [],
   "source": []
  },
  {
   "cell_type": "code",
   "execution_count": 78,
   "metadata": {},
   "outputs": [
    {
     "data": {
      "text/plain": "39"
     },
     "execution_count": 78,
     "metadata": {},
     "output_type": "execute_result"
    }
   ],
   "source": [
    "datasets_info = {}\n",
    "datasets_info[\"livemocha\"] = (104104,2192907)\n",
    "single_outputs = []\n",
    "outputs = []\n",
    "for file in os.listdir(results_direcotry):\n",
    "    if file[0] == '.':\n",
    "        continue\n",
    "    with open(results_direcotry + file) as f:\n",
    "        result = json.load(f)\n",
    "    if \"single\" in file:\n",
    "        single_outputs.append(result)\n",
    "    else:\n",
    "        # renames:\n",
    "        useful_result = True\n",
    "        for default in add_defaults:\n",
    "            if default[0] not in result:\n",
    "                result[default[0]] = default[1]\n",
    "        for rename in renames:\n",
    "            if rename[0] in result:\n",
    "                result[rename[1]] = result[rename[0]]\n",
    "            else:\n",
    "                useful_result = False\n",
    "        data = {}\n",
    "        for col in output_df_cols:\n",
    "            if col in result:\n",
    "                data[col] = result[col]\n",
    "            else:\n",
    "                useful_result = False\n",
    "                break\n",
    "        if useful_result:\n",
    "            outputs.append(data)\n",
    "        else:\n",
    "            print(col)\n",
    "len(outputs)"
   ]
  },
  {
   "cell_type": "code",
   "execution_count": 91,
   "metadata": {},
   "outputs": [],
   "source": [
    "single_df = pd.DataFrame(single_outputs)\n",
    "single_df = single_df[single_df_cols]\n",
    "single_df = single_df.sort_values(single_df_cols, axis=0, ascending=True, inplace=False).reset_index(drop=True)"
   ]
  },
  {
   "cell_type": "code",
   "execution_count": 92,
   "metadata": {},
   "outputs": [
    {
     "data": {
      "text/html": "<div>\n<style scoped>\n    .dataframe tbody tr th:only-of-type {\n        vertical-align: middle;\n    }\n\n    .dataframe tbody tr th {\n        vertical-align: top;\n    }\n\n    .dataframe thead th {\n        text-align: right;\n    }\n</style>\n<table border=\"1\" class=\"dataframe\">\n  <thead>\n    <tr style=\"text-align: right;\">\n      <th></th>\n      <th>dataset_name</th>\n      <th>main_graph_edges</th>\n      <th>main_graph_nodes</th>\n      <th>p</th>\n      <th>q</th>\n      <th>dimension</th>\n      <th>random_walk_length</th>\n      <th>number_of_random_walks</th>\n      <th>test_fraction</th>\n      <th>roc_auc_score</th>\n      <th>avg_prc_score</th>\n    </tr>\n  </thead>\n  <tbody>\n    <tr>\n      <th>0</th>\n      <td>livemocha</td>\n      <td>2192907</td>\n      <td>104104</td>\n      <td>0.3</td>\n      <td>0.3</td>\n      <td>64</td>\n      <td>40</td>\n      <td>5</td>\n      <td>0.3</td>\n      <td>0.832303</td>\n      <td>0.829011</td>\n    </tr>\n    <tr>\n      <th>1</th>\n      <td>livemocha</td>\n      <td>2192907</td>\n      <td>104104</td>\n      <td>0.3</td>\n      <td>0.3</td>\n      <td>128</td>\n      <td>80</td>\n      <td>10</td>\n      <td>0.3</td>\n      <td>0.793667</td>\n      <td>0.790717</td>\n    </tr>\n    <tr>\n      <th>2</th>\n      <td>wikipedia_squ</td>\n      <td>217073</td>\n      <td>5201</td>\n      <td>0.3</td>\n      <td>0.3</td>\n      <td>128</td>\n      <td>80</td>\n      <td>10</td>\n      <td>0.3</td>\n      <td>0.937400</td>\n      <td>0.926100</td>\n    </tr>\n  </tbody>\n</table>\n</div>",
      "text/plain": "    dataset_name  main_graph_edges  main_graph_nodes    p    q  dimension  \\\n0      livemocha           2192907            104104  0.3  0.3         64   \n1      livemocha           2192907            104104  0.3  0.3        128   \n2  wikipedia_squ            217073              5201  0.3  0.3        128   \n\n   random_walk_length  number_of_random_walks  test_fraction  roc_auc_score  \\\n0                  40                       5            0.3       0.832303   \n1                  80                      10            0.3       0.793667   \n2                  80                      10            0.3       0.937400   \n\n   avg_prc_score  \n0       0.829011  \n1       0.790717  \n2       0.926100  "
     },
     "execution_count": 92,
     "metadata": {},
     "output_type": "execute_result"
    }
   ],
   "source": [
    "single_df"
   ]
  },
  {
   "cell_type": "code",
   "execution_count": 93,
   "metadata": {},
   "outputs": [],
   "source": [
    "df = pd.DataFrame(outputs)\n",
    "df = df[output_df_cols]\n",
    "df = df.sort_values(output_df_cols, axis=0, ascending=True, inplace=False).reset_index(drop=True)"
   ]
  },
  {
   "cell_type": "code",
   "execution_count": 94,
   "metadata": {},
   "outputs": [
    {
     "data": {
      "text/html": "<div>\n<style scoped>\n    .dataframe tbody tr th:only-of-type {\n        vertical-align: middle;\n    }\n\n    .dataframe tbody tr th {\n        vertical-align: top;\n    }\n\n    .dataframe thead th {\n        text-align: right;\n    }\n</style>\n<table border=\"1\" class=\"dataframe\">\n  <thead>\n    <tr style=\"text-align: right;\">\n      <th></th>\n      <th>dataset_name</th>\n      <th>batch_count</th>\n      <th>number_of_combinations</th>\n      <th>k</th>\n      <th>batch_size</th>\n      <th>dimension</th>\n      <th>number_of_walks</th>\n      <th>voting</th>\n      <th>weighted_voting</th>\n      <th>max_path_count</th>\n      <th>test_roc</th>\n      <th>test_ap</th>\n      <th>number_of_evaluated_edges</th>\n      <th>test_name</th>\n      <th>distance_info</th>\n    </tr>\n  </thead>\n  <tbody>\n    <tr>\n      <th>0</th>\n      <td>livemocha</td>\n      <td>8</td>\n      <td>28</td>\n      <td>max</td>\n      <td>13013</td>\n      <td>8</td>\n      <td>40</td>\n      <td>False</td>\n      <td>False</td>\n      <td>4</td>\n      <td>0.859905</td>\n      <td>0.871796</td>\n      <td>3453852</td>\n      <td>1574748427</td>\n      <td>[(2, 0.855203999936025, 0.8680845332423819, 34...</td>\n    </tr>\n    <tr>\n      <th>1</th>\n      <td>livemocha</td>\n      <td>8</td>\n      <td>28</td>\n      <td>max</td>\n      <td>13013</td>\n      <td>8</td>\n      <td>80</td>\n      <td>False</td>\n      <td>False</td>\n      <td>4</td>\n      <td>0.763012</td>\n      <td>0.699988</td>\n      <td>3453852</td>\n      <td>1574742406</td>\n      <td>[(2, 0.7574989886868502, 0.6915927446942802, 3...</td>\n    </tr>\n    <tr>\n      <th>2</th>\n      <td>livemocha</td>\n      <td>8</td>\n      <td>28</td>\n      <td>max</td>\n      <td>13013</td>\n      <td>64</td>\n      <td>40</td>\n      <td>False</td>\n      <td>False</td>\n      <td>4</td>\n      <td>0.876097</td>\n      <td>0.894810</td>\n      <td>3453852</td>\n      <td>1574749143</td>\n      <td>[(2, 0.8708738938759593, 0.891158568185769, 34...</td>\n    </tr>\n    <tr>\n      <th>3</th>\n      <td>livemocha</td>\n      <td>8</td>\n      <td>28</td>\n      <td>max</td>\n      <td>13013</td>\n      <td>64</td>\n      <td>80</td>\n      <td>False</td>\n      <td>False</td>\n      <td>4</td>\n      <td>0.774477</td>\n      <td>0.754727</td>\n      <td>3453852</td>\n      <td>1574744269</td>\n      <td>[(2, 0.7719953923834547, 0.7503313418823696, 3...</td>\n    </tr>\n    <tr>\n      <th>4</th>\n      <td>livemocha</td>\n      <td>8</td>\n      <td>28</td>\n      <td>max</td>\n      <td>13013</td>\n      <td>128</td>\n      <td>40</td>\n      <td>False</td>\n      <td>False</td>\n      <td>4</td>\n      <td>0.873318</td>\n      <td>0.894005</td>\n      <td>3453852</td>\n      <td>1574749906</td>\n      <td>[(2, 0.8676270115221479, 0.8900494230429966, 3...</td>\n    </tr>\n    <tr>\n      <th>5</th>\n      <td>livemocha</td>\n      <td>8</td>\n      <td>28</td>\n      <td>max</td>\n      <td>13013</td>\n      <td>128</td>\n      <td>80</td>\n      <td>False</td>\n      <td>False</td>\n      <td>4</td>\n      <td>0.775596</td>\n      <td>0.762831</td>\n      <td>3453852</td>\n      <td>1574746228</td>\n      <td>[(2, 0.7737662258258468, 0.7590269759284469, 3...</td>\n    </tr>\n    <tr>\n      <th>6</th>\n      <td>livemocha</td>\n      <td>16</td>\n      <td>120</td>\n      <td>max</td>\n      <td>6507</td>\n      <td>8</td>\n      <td>15</td>\n      <td>False</td>\n      <td>False</td>\n      <td>4</td>\n      <td>0.513839</td>\n      <td>0.510487</td>\n      <td>3700402</td>\n      <td>1574733049</td>\n      <td>[(2, 0.5131749127873125, 0.5098933972766077, 3...</td>\n    </tr>\n    <tr>\n      <th>7</th>\n      <td>livemocha</td>\n      <td>16</td>\n      <td>120</td>\n      <td>max</td>\n      <td>6507</td>\n      <td>8</td>\n      <td>40</td>\n      <td>False</td>\n      <td>False</td>\n      <td>4</td>\n      <td>0.837350</td>\n      <td>0.851132</td>\n      <td>3700402</td>\n      <td>1574731796</td>\n      <td>[(2, 0.8346856725901138, 0.8490253881279073, 3...</td>\n    </tr>\n    <tr>\n      <th>8</th>\n      <td>livemocha</td>\n      <td>16</td>\n      <td>120</td>\n      <td>max</td>\n      <td>6507</td>\n      <td>8</td>\n      <td>80</td>\n      <td>False</td>\n      <td>False</td>\n      <td>4</td>\n      <td>0.759841</td>\n      <td>0.696696</td>\n      <td>3700402</td>\n      <td>1574729238</td>\n      <td>[(2, 0.7566566597551249, 0.6925331786429101, 3...</td>\n    </tr>\n    <tr>\n      <th>9</th>\n      <td>livemocha</td>\n      <td>16</td>\n      <td>120</td>\n      <td>max</td>\n      <td>6507</td>\n      <td>64</td>\n      <td>15</td>\n      <td>False</td>\n      <td>False</td>\n      <td>4</td>\n      <td>0.513852</td>\n      <td>0.510517</td>\n      <td>3700402</td>\n      <td>1574733355</td>\n      <td>[(2, 0.5131979632471152, 0.5099346512973557, 3...</td>\n    </tr>\n    <tr>\n      <th>10</th>\n      <td>livemocha</td>\n      <td>16</td>\n      <td>120</td>\n      <td>max</td>\n      <td>6507</td>\n      <td>64</td>\n      <td>40</td>\n      <td>False</td>\n      <td>False</td>\n      <td>4</td>\n      <td>0.840184</td>\n      <td>0.868682</td>\n      <td>3700402</td>\n      <td>1574732190</td>\n      <td>[(2, 0.836592964652223, 0.8659534173057226, 37...</td>\n    </tr>\n    <tr>\n      <th>11</th>\n      <td>livemocha</td>\n      <td>16</td>\n      <td>120</td>\n      <td>max</td>\n      <td>6507</td>\n      <td>64</td>\n      <td>80</td>\n      <td>False</td>\n      <td>False</td>\n      <td>4</td>\n      <td>0.759602</td>\n      <td>0.739833</td>\n      <td>3700402</td>\n      <td>1574730038</td>\n      <td>[(2, 0.7583392004196949, 0.7380947725215575, 3...</td>\n    </tr>\n    <tr>\n      <th>12</th>\n      <td>livemocha</td>\n      <td>16</td>\n      <td>120</td>\n      <td>max</td>\n      <td>6507</td>\n      <td>128</td>\n      <td>15</td>\n      <td>False</td>\n      <td>False</td>\n      <td>4</td>\n      <td>0.513881</td>\n      <td>0.510645</td>\n      <td>3700402</td>\n      <td>1574733679</td>\n      <td>[(2, 0.5132280801373984, 0.510082454535581, 37...</td>\n    </tr>\n    <tr>\n      <th>13</th>\n      <td>livemocha</td>\n      <td>16</td>\n      <td>120</td>\n      <td>max</td>\n      <td>6507</td>\n      <td>128</td>\n      <td>40</td>\n      <td>False</td>\n      <td>False</td>\n      <td>4</td>\n      <td>0.840134</td>\n      <td>0.870090</td>\n      <td>3700402</td>\n      <td>1574732617</td>\n      <td>[(2, 0.8360791749701821, 0.8670290873028943, 3...</td>\n    </tr>\n    <tr>\n      <th>14</th>\n      <td>livemocha</td>\n      <td>16</td>\n      <td>120</td>\n      <td>max</td>\n      <td>6507</td>\n      <td>128</td>\n      <td>80</td>\n      <td>False</td>\n      <td>False</td>\n      <td>4</td>\n      <td>0.759836</td>\n      <td>0.750501</td>\n      <td>3700402</td>\n      <td>1574730886</td>\n      <td>[(2, 0.7580619662506045, 0.7485580697787962, 3...</td>\n    </tr>\n    <tr>\n      <th>15</th>\n      <td>livemocha</td>\n      <td>32</td>\n      <td>31</td>\n      <td>2</td>\n      <td>3254</td>\n      <td>64</td>\n      <td>40</td>\n      <td>False</td>\n      <td>False</td>\n      <td>2</td>\n      <td>0.729763</td>\n      <td>0.742029</td>\n      <td>2053254</td>\n      <td>1574782642</td>\n      <td>[(2, 0.8054441828655405, 0.8425482037007324, 2...</td>\n    </tr>\n    <tr>\n      <th>16</th>\n      <td>livemocha</td>\n      <td>32</td>\n      <td>31</td>\n      <td>2</td>\n      <td>3254</td>\n      <td>64</td>\n      <td>40</td>\n      <td>True</td>\n      <td>True</td>\n      <td>2</td>\n      <td>0.718590</td>\n      <td>0.737144</td>\n      <td>3450662</td>\n      <td>1574809298</td>\n      <td>[(2, 0.8059988172356174, 0.842675678764534, 39...</td>\n    </tr>\n    <tr>\n      <th>17</th>\n      <td>livemocha</td>\n      <td>32</td>\n      <td>52</td>\n      <td>8</td>\n      <td>3254</td>\n      <td>64</td>\n      <td>40</td>\n      <td>False</td>\n      <td>False</td>\n      <td>2</td>\n      <td>0.710191</td>\n      <td>0.744731</td>\n      <td>2066550</td>\n      <td>1574792016</td>\n      <td>[(2, 0.8033157567873905, 0.8401562899313233, 4...</td>\n    </tr>\n    <tr>\n      <th>18</th>\n      <td>livemocha</td>\n      <td>32</td>\n      <td>52</td>\n      <td>8</td>\n      <td>3254</td>\n      <td>64</td>\n      <td>40</td>\n      <td>True</td>\n      <td>True</td>\n      <td>2</td>\n      <td>0.710026</td>\n      <td>0.746776</td>\n      <td>3504735</td>\n      <td>1574809323</td>\n      <td>[(2, 0.8029025468393572, 0.8401759475581374, 5...</td>\n    </tr>\n    <tr>\n      <th>19</th>\n      <td>livemocha</td>\n      <td>32</td>\n      <td>136</td>\n      <td>16</td>\n      <td>3254</td>\n      <td>64</td>\n      <td>40</td>\n      <td>False</td>\n      <td>False</td>\n      <td>2</td>\n      <td>0.748376</td>\n      <td>0.783549</td>\n      <td>2607944</td>\n      <td>1574798613</td>\n      <td>[(2, 0.8045870216742577, 0.8396702245184688, 1...</td>\n    </tr>\n    <tr>\n      <th>20</th>\n      <td>livemocha</td>\n      <td>32</td>\n      <td>284</td>\n      <td>24</td>\n      <td>3254</td>\n      <td>64</td>\n      <td>40</td>\n      <td>False</td>\n      <td>False</td>\n      <td>2</td>\n      <td>0.784899</td>\n      <td>0.819603</td>\n      <td>3203263</td>\n      <td>1574803154</td>\n      <td>[(2, 0.8066916842428304, 0.8425427232193284, 2...</td>\n    </tr>\n    <tr>\n      <th>21</th>\n      <td>livemocha</td>\n      <td>32</td>\n      <td>496</td>\n      <td>max</td>\n      <td>3254</td>\n      <td>8</td>\n      <td>15</td>\n      <td>False</td>\n      <td>False</td>\n      <td>4</td>\n      <td>0.518132</td>\n      <td>0.514095</td>\n      <td>3821511</td>\n      <td>1574738282</td>\n      <td>[(2, 0.5187838109206387, 0.5142710613802733, 3...</td>\n    </tr>\n    <tr>\n      <th>22</th>\n      <td>livemocha</td>\n      <td>32</td>\n      <td>496</td>\n      <td>max</td>\n      <td>3254</td>\n      <td>8</td>\n      <td>40</td>\n      <td>False</td>\n      <td>False</td>\n      <td>4</td>\n      <td>0.799820</td>\n      <td>0.821981</td>\n      <td>3821511</td>\n      <td>1574736663</td>\n      <td>[(2, 0.798212832767489, 0.82083346052774, 3821...</td>\n    </tr>\n    <tr>\n      <th>23</th>\n      <td>livemocha</td>\n      <td>32</td>\n      <td>496</td>\n      <td>max</td>\n      <td>3254</td>\n      <td>8</td>\n      <td>80</td>\n      <td>False</td>\n      <td>False</td>\n      <td>4</td>\n      <td>0.737169</td>\n      <td>0.710557</td>\n      <td>3821511</td>\n      <td>1574734039</td>\n      <td>[(2, 0.7347103176165445, 0.7077931060012471, 3...</td>\n    </tr>\n    <tr>\n      <th>24</th>\n      <td>livemocha</td>\n      <td>32</td>\n      <td>496</td>\n      <td>max</td>\n      <td>3254</td>\n      <td>64</td>\n      <td>15</td>\n      <td>False</td>\n      <td>False</td>\n      <td>4</td>\n      <td>0.518136</td>\n      <td>0.514097</td>\n      <td>3821511</td>\n      <td>1574738733</td>\n      <td>[(2, 0.518786432601182, 0.5142658299463996, 38...</td>\n    </tr>\n    <tr>\n      <th>25</th>\n      <td>livemocha</td>\n      <td>32</td>\n      <td>496</td>\n      <td>max</td>\n      <td>3254</td>\n      <td>64</td>\n      <td>40</td>\n      <td>False</td>\n      <td>False</td>\n      <td>4</td>\n      <td>0.808647</td>\n      <td>0.845033</td>\n      <td>3821511</td>\n      <td>1574737167</td>\n      <td>[(2, 0.8064332163277077, 0.8429328362635845, 3...</td>\n    </tr>\n    <tr>\n      <th>26</th>\n      <td>livemocha</td>\n      <td>32</td>\n      <td>496</td>\n      <td>max</td>\n      <td>3254</td>\n      <td>64</td>\n      <td>80</td>\n      <td>False</td>\n      <td>False</td>\n      <td>4</td>\n      <td>0.747851</td>\n      <td>0.752508</td>\n      <td>3821511</td>\n      <td>1574734861</td>\n      <td>[(2, 0.7459822818733821, 0.7507493021205337, 3...</td>\n    </tr>\n    <tr>\n      <th>27</th>\n      <td>livemocha</td>\n      <td>32</td>\n      <td>496</td>\n      <td>max</td>\n      <td>3254</td>\n      <td>128</td>\n      <td>15</td>\n      <td>False</td>\n      <td>False</td>\n      <td>4</td>\n      <td>0.518140</td>\n      <td>0.514106</td>\n      <td>3821511</td>\n      <td>1574739189</td>\n      <td>[(2, 0.5187912118998382, 0.5142972147522401, 3...</td>\n    </tr>\n    <tr>\n      <th>28</th>\n      <td>livemocha</td>\n      <td>32</td>\n      <td>496</td>\n      <td>max</td>\n      <td>3254</td>\n      <td>128</td>\n      <td>15</td>\n      <td>False</td>\n      <td>False</td>\n      <td>4</td>\n      <td>0.518141</td>\n      <td>0.514104</td>\n      <td>3821511</td>\n      <td>1574728729</td>\n      <td>[(2, 0.5187915113427233, 0.5142908814474189, 3...</td>\n    </tr>\n    <tr>\n      <th>29</th>\n      <td>livemocha</td>\n      <td>32</td>\n      <td>496</td>\n      <td>max</td>\n      <td>3254</td>\n      <td>128</td>\n      <td>40</td>\n      <td>False</td>\n      <td>False</td>\n      <td>4</td>\n      <td>0.820134</td>\n      <td>0.854340</td>\n      <td>3821511</td>\n      <td>1574737755</td>\n      <td>[(2, 0.8180818065402128, 0.8524150193538524, 3...</td>\n    </tr>\n    <tr>\n      <th>30</th>\n      <td>livemocha</td>\n      <td>32</td>\n      <td>496</td>\n      <td>max</td>\n      <td>3254</td>\n      <td>128</td>\n      <td>80</td>\n      <td>False</td>\n      <td>False</td>\n      <td>4</td>\n      <td>0.757847</td>\n      <td>0.766578</td>\n      <td>3821511</td>\n      <td>1574735729</td>\n      <td>[(2, 0.755723896864873, 0.7646064176103546, 38...</td>\n    </tr>\n    <tr>\n      <th>31</th>\n      <td>livemocha</td>\n      <td>64</td>\n      <td>2016</td>\n      <td>max</td>\n      <td>1627</td>\n      <td>8</td>\n      <td>40</td>\n      <td>False</td>\n      <td>False</td>\n      <td>4</td>\n      <td>0.738732</td>\n      <td>0.774934</td>\n      <td>3884095</td>\n      <td>1574756899</td>\n      <td>[(2, 0.7360365575120864, 0.7714604329640862, 3...</td>\n    </tr>\n    <tr>\n      <th>32</th>\n      <td>livemocha</td>\n      <td>64</td>\n      <td>2016</td>\n      <td>max</td>\n      <td>1627</td>\n      <td>8</td>\n      <td>80</td>\n      <td>False</td>\n      <td>False</td>\n      <td>4</td>\n      <td>0.692270</td>\n      <td>0.717881</td>\n      <td>3884095</td>\n      <td>1574750736</td>\n      <td>[(2, 0.6891457955019389, 0.7137701175370941, 3...</td>\n    </tr>\n    <tr>\n      <th>33</th>\n      <td>livemocha</td>\n      <td>64</td>\n      <td>2016</td>\n      <td>max</td>\n      <td>1627</td>\n      <td>8</td>\n      <td>80</td>\n      <td>False</td>\n      <td>False</td>\n      <td>4</td>\n      <td>0.692523</td>\n      <td>0.717698</td>\n      <td>3884095</td>\n      <td>1574752097</td>\n      <td>[(2, 0.6890783837602485, 0.713385591485701, 38...</td>\n    </tr>\n    <tr>\n      <th>34</th>\n      <td>livemocha</td>\n      <td>64</td>\n      <td>2016</td>\n      <td>max</td>\n      <td>1627</td>\n      <td>64</td>\n      <td>15</td>\n      <td>False</td>\n      <td>False</td>\n      <td>4</td>\n      <td>0.521975</td>\n      <td>0.517381</td>\n      <td>3884095</td>\n      <td>1574760097</td>\n      <td>[(2, 0.5224196489109602, 0.516581317702172, 38...</td>\n    </tr>\n    <tr>\n      <th>35</th>\n      <td>livemocha</td>\n      <td>64</td>\n      <td>2016</td>\n      <td>max</td>\n      <td>1627</td>\n      <td>64</td>\n      <td>40</td>\n      <td>False</td>\n      <td>False</td>\n      <td>4</td>\n      <td>0.768675</td>\n      <td>0.811138</td>\n      <td>3884095</td>\n      <td>1574757916</td>\n      <td>[(2, 0.7658493276399794, 0.8079054468746322, 3...</td>\n    </tr>\n    <tr>\n      <th>36</th>\n      <td>livemocha</td>\n      <td>64</td>\n      <td>2016</td>\n      <td>max</td>\n      <td>1627</td>\n      <td>64</td>\n      <td>80</td>\n      <td>False</td>\n      <td>False</td>\n      <td>4</td>\n      <td>0.739060</td>\n      <td>0.766445</td>\n      <td>3884095</td>\n      <td>1574754233</td>\n      <td>[(2, 0.7366423084473847, 0.763242235493635, 38...</td>\n    </tr>\n    <tr>\n      <th>37</th>\n      <td>livemocha</td>\n      <td>64</td>\n      <td>2016</td>\n      <td>max</td>\n      <td>1627</td>\n      <td>128</td>\n      <td>40</td>\n      <td>False</td>\n      <td>False</td>\n      <td>4</td>\n      <td>0.771135</td>\n      <td>0.814497</td>\n      <td>3884095</td>\n      <td>1574758950</td>\n      <td>[(2, 0.7683483610625957, 0.811297554440649, 38...</td>\n    </tr>\n    <tr>\n      <th>38</th>\n      <td>livemocha</td>\n      <td>64</td>\n      <td>2016</td>\n      <td>max</td>\n      <td>1627</td>\n      <td>128</td>\n      <td>80</td>\n      <td>False</td>\n      <td>False</td>\n      <td>4</td>\n      <td>0.756646</td>\n      <td>0.780100</td>\n      <td>3884095</td>\n      <td>1574755534</td>\n      <td>[(2, 0.7543330249834136, 0.7769681110131358, 3...</td>\n    </tr>\n  </tbody>\n</table>\n</div>",
      "text/plain": "   dataset_name  batch_count  number_of_combinations    k  batch_size  \\\n0     livemocha            8                      28  max       13013   \n1     livemocha            8                      28  max       13013   \n2     livemocha            8                      28  max       13013   \n3     livemocha            8                      28  max       13013   \n4     livemocha            8                      28  max       13013   \n5     livemocha            8                      28  max       13013   \n6     livemocha           16                     120  max        6507   \n7     livemocha           16                     120  max        6507   \n8     livemocha           16                     120  max        6507   \n9     livemocha           16                     120  max        6507   \n10    livemocha           16                     120  max        6507   \n11    livemocha           16                     120  max        6507   \n12    livemocha           16                     120  max        6507   \n13    livemocha           16                     120  max        6507   \n14    livemocha           16                     120  max        6507   \n15    livemocha           32                      31    2        3254   \n16    livemocha           32                      31    2        3254   \n17    livemocha           32                      52    8        3254   \n18    livemocha           32                      52    8        3254   \n19    livemocha           32                     136   16        3254   \n20    livemocha           32                     284   24        3254   \n21    livemocha           32                     496  max        3254   \n22    livemocha           32                     496  max        3254   \n23    livemocha           32                     496  max        3254   \n24    livemocha           32                     496  max        3254   \n25    livemocha           32                     496  max        3254   \n26    livemocha           32                     496  max        3254   \n27    livemocha           32                     496  max        3254   \n28    livemocha           32                     496  max        3254   \n29    livemocha           32                     496  max        3254   \n30    livemocha           32                     496  max        3254   \n31    livemocha           64                    2016  max        1627   \n32    livemocha           64                    2016  max        1627   \n33    livemocha           64                    2016  max        1627   \n34    livemocha           64                    2016  max        1627   \n35    livemocha           64                    2016  max        1627   \n36    livemocha           64                    2016  max        1627   \n37    livemocha           64                    2016  max        1627   \n38    livemocha           64                    2016  max        1627   \n\n    dimension  number_of_walks  voting  weighted_voting  max_path_count  \\\n0           8               40   False            False               4   \n1           8               80   False            False               4   \n2          64               40   False            False               4   \n3          64               80   False            False               4   \n4         128               40   False            False               4   \n5         128               80   False            False               4   \n6           8               15   False            False               4   \n7           8               40   False            False               4   \n8           8               80   False            False               4   \n9          64               15   False            False               4   \n10         64               40   False            False               4   \n11         64               80   False            False               4   \n12        128               15   False            False               4   \n13        128               40   False            False               4   \n14        128               80   False            False               4   \n15         64               40   False            False               2   \n16         64               40    True             True               2   \n17         64               40   False            False               2   \n18         64               40    True             True               2   \n19         64               40   False            False               2   \n20         64               40   False            False               2   \n21          8               15   False            False               4   \n22          8               40   False            False               4   \n23          8               80   False            False               4   \n24         64               15   False            False               4   \n25         64               40   False            False               4   \n26         64               80   False            False               4   \n27        128               15   False            False               4   \n28        128               15   False            False               4   \n29        128               40   False            False               4   \n30        128               80   False            False               4   \n31          8               40   False            False               4   \n32          8               80   False            False               4   \n33          8               80   False            False               4   \n34         64               15   False            False               4   \n35         64               40   False            False               4   \n36         64               80   False            False               4   \n37        128               40   False            False               4   \n38        128               80   False            False               4   \n\n    test_roc   test_ap  number_of_evaluated_edges   test_name  \\\n0   0.859905  0.871796                    3453852  1574748427   \n1   0.763012  0.699988                    3453852  1574742406   \n2   0.876097  0.894810                    3453852  1574749143   \n3   0.774477  0.754727                    3453852  1574744269   \n4   0.873318  0.894005                    3453852  1574749906   \n5   0.775596  0.762831                    3453852  1574746228   \n6   0.513839  0.510487                    3700402  1574733049   \n7   0.837350  0.851132                    3700402  1574731796   \n8   0.759841  0.696696                    3700402  1574729238   \n9   0.513852  0.510517                    3700402  1574733355   \n10  0.840184  0.868682                    3700402  1574732190   \n11  0.759602  0.739833                    3700402  1574730038   \n12  0.513881  0.510645                    3700402  1574733679   \n13  0.840134  0.870090                    3700402  1574732617   \n14  0.759836  0.750501                    3700402  1574730886   \n15  0.729763  0.742029                    2053254  1574782642   \n16  0.718590  0.737144                    3450662  1574809298   \n17  0.710191  0.744731                    2066550  1574792016   \n18  0.710026  0.746776                    3504735  1574809323   \n19  0.748376  0.783549                    2607944  1574798613   \n20  0.784899  0.819603                    3203263  1574803154   \n21  0.518132  0.514095                    3821511  1574738282   \n22  0.799820  0.821981                    3821511  1574736663   \n23  0.737169  0.710557                    3821511  1574734039   \n24  0.518136  0.514097                    3821511  1574738733   \n25  0.808647  0.845033                    3821511  1574737167   \n26  0.747851  0.752508                    3821511  1574734861   \n27  0.518140  0.514106                    3821511  1574739189   \n28  0.518141  0.514104                    3821511  1574728729   \n29  0.820134  0.854340                    3821511  1574737755   \n30  0.757847  0.766578                    3821511  1574735729   \n31  0.738732  0.774934                    3884095  1574756899   \n32  0.692270  0.717881                    3884095  1574750736   \n33  0.692523  0.717698                    3884095  1574752097   \n34  0.521975  0.517381                    3884095  1574760097   \n35  0.768675  0.811138                    3884095  1574757916   \n36  0.739060  0.766445                    3884095  1574754233   \n37  0.771135  0.814497                    3884095  1574758950   \n38  0.756646  0.780100                    3884095  1574755534   \n\n                                        distance_info  \n0   [(2, 0.855203999936025, 0.8680845332423819, 34...  \n1   [(2, 0.7574989886868502, 0.6915927446942802, 3...  \n2   [(2, 0.8708738938759593, 0.891158568185769, 34...  \n3   [(2, 0.7719953923834547, 0.7503313418823696, 3...  \n4   [(2, 0.8676270115221479, 0.8900494230429966, 3...  \n5   [(2, 0.7737662258258468, 0.7590269759284469, 3...  \n6   [(2, 0.5131749127873125, 0.5098933972766077, 3...  \n7   [(2, 0.8346856725901138, 0.8490253881279073, 3...  \n8   [(2, 0.7566566597551249, 0.6925331786429101, 3...  \n9   [(2, 0.5131979632471152, 0.5099346512973557, 3...  \n10  [(2, 0.836592964652223, 0.8659534173057226, 37...  \n11  [(2, 0.7583392004196949, 0.7380947725215575, 3...  \n12  [(2, 0.5132280801373984, 0.510082454535581, 37...  \n13  [(2, 0.8360791749701821, 0.8670290873028943, 3...  \n14  [(2, 0.7580619662506045, 0.7485580697787962, 3...  \n15  [(2, 0.8054441828655405, 0.8425482037007324, 2...  \n16  [(2, 0.8059988172356174, 0.842675678764534, 39...  \n17  [(2, 0.8033157567873905, 0.8401562899313233, 4...  \n18  [(2, 0.8029025468393572, 0.8401759475581374, 5...  \n19  [(2, 0.8045870216742577, 0.8396702245184688, 1...  \n20  [(2, 0.8066916842428304, 0.8425427232193284, 2...  \n21  [(2, 0.5187838109206387, 0.5142710613802733, 3...  \n22  [(2, 0.798212832767489, 0.82083346052774, 3821...  \n23  [(2, 0.7347103176165445, 0.7077931060012471, 3...  \n24  [(2, 0.518786432601182, 0.5142658299463996, 38...  \n25  [(2, 0.8064332163277077, 0.8429328362635845, 3...  \n26  [(2, 0.7459822818733821, 0.7507493021205337, 3...  \n27  [(2, 0.5187912118998382, 0.5142972147522401, 3...  \n28  [(2, 0.5187915113427233, 0.5142908814474189, 3...  \n29  [(2, 0.8180818065402128, 0.8524150193538524, 3...  \n30  [(2, 0.755723896864873, 0.7646064176103546, 38...  \n31  [(2, 0.7360365575120864, 0.7714604329640862, 3...  \n32  [(2, 0.6891457955019389, 0.7137701175370941, 3...  \n33  [(2, 0.6890783837602485, 0.713385591485701, 38...  \n34  [(2, 0.5224196489109602, 0.516581317702172, 38...  \n35  [(2, 0.7658493276399794, 0.8079054468746322, 3...  \n36  [(2, 0.7366423084473847, 0.763242235493635, 38...  \n37  [(2, 0.7683483610625957, 0.811297554440649, 38...  \n38  [(2, 0.7543330249834136, 0.7769681110131358, 3...  "
     },
     "execution_count": 94,
     "metadata": {},
     "output_type": "execute_result"
    }
   ],
   "source": [
    "df"
   ]
  },
  {
   "cell_type": "code",
   "execution_count": null,
   "metadata": {},
   "outputs": [],
   "source": []
  }
 ]
}